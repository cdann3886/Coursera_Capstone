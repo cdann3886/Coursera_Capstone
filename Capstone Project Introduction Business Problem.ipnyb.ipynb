{
 "cells": [
  {
   "cell_type": "markdown",
   "id": "ddaa43c1",
   "metadata": {},
   "source": [
    "# Capstone Project: Creating a New Indian Restaurant in Toronto"
   ]
  },
  {
   "cell_type": "markdown",
   "id": "1d15dc20",
   "metadata": {},
   "source": [
    "### Backstory:\n",
    "Our customer, John, currently owns three successful restaurants in Prospect Lefferts Garden (PLG), a neighborhood in the Borough of Brooklyn and two successful bars in Queens.  Prospect Lefferts Garden boarders Queens, which provides John a large amount of diversity in customers. This is why John has set up developments in this area.  \n",
    "\n",
    "### The Opportunity:\n",
    "John is currently looking to expand his investment portfolio with an opportunity brought to him by an investor, Mike. Mike is looking to open and operate an Indian restaurant in Toronto, Canada. Mike’s interest in John as an investor is largely because of John’s already large, successful portfolio of angel investments that allow the investor who has a successful restaurant in a large city such as New York to be creative and make a large amount of revenue. John is interested in this opportunity, seeing as Toronto has a large population that enjoys comforts (bars, restaurants, coffee shops) that are currently in his portfolio. John is excited to have an Indian restaurant in his portfolio as well as venturing out into another metropolitan.\n",
    "\n",
    "### The Business Problem:\n",
    "As John is excited, he also is hesitant as he doesn’t know too much about the analytics of the Toronto restaurant scene. Therefore, he has hired us to do research. John would like to find out the following before returning to Mike with a decision:\n",
    "\n",
    "- What is the background of the many Indian restaurants in Brooklyn and Queens?\n",
    "- Are these restaurants frequently visited?\n",
    "- What other venues does the average Indian restaurant customer visit?\n",
    "- What are the ratings, if any?\n",
    "- Can we use the information found in Brooklyn and Queens to predict a successful location for Toronto?\n",
    "- Can we find Indian restaurants in Toronto and test our NY data to see if there are any associations within       customer venues?\n",
    "- Can we find a neighborhood (or borough) to develop an Indian Restaurant?\n",
    "\n",
    "We have a couple of days to create a recommendation for John before he needs to return to Mike with an answer.\n",
    "\n",
    "\n",
    "\n",
    "\n"
   ]
  },
  {
   "cell_type": "code",
   "execution_count": null,
   "id": "2a6f7a95",
   "metadata": {},
   "outputs": [],
   "source": []
  }
 ],
 "metadata": {
  "kernelspec": {
   "display_name": "Python 3",
   "language": "python",
   "name": "python3"
  },
  "language_info": {
   "codemirror_mode": {
    "name": "ipython",
    "version": 3
   },
   "file_extension": ".py",
   "mimetype": "text/x-python",
   "name": "python",
   "nbconvert_exporter": "python",
   "pygments_lexer": "ipython3",
   "version": "3.8.8"
  }
 },
 "nbformat": 4,
 "nbformat_minor": 5
}
