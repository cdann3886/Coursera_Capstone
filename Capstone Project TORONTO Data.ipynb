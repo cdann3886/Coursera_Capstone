{
 "cells": [
  {
   "cell_type": "markdown",
   "id": "b021b305",
   "metadata": {},
   "source": [
    "# Capstone Project: Toronto Data"
   ]
  },
  {
   "cell_type": "markdown",
   "id": "faa10434",
   "metadata": {},
   "source": [
    "### Downloading the Dependencies for Data Exploring and Visualizations"
   ]
  },
  {
   "cell_type": "markdown",
   "id": "74891547",
   "metadata": {},
   "source": [
    "#### So we can import the data, create a dataframe, and then be able to explore the data for Brooklyn, Queens, and Toronto. Creating the dataframe will allow us to divide the boroughs so that we can look at Brooklyn and Queens exclusivley. We can also create maps and clusters (k-means) to further use the surrounding venues to find out more about our customers.\n",
    "\n",
    "#### Library to handle data in a vectorized manner\n",
    "- import numpy as np \n",
    "#### Library for data analsysis\n",
    "- import pandas as pd\n",
    "- pd.set_option('display.max_columns', None)\n",
    "- pd.set_option('display.max_rows', None)\n",
    "#### Library to handle JSON files\n",
    "- import json\n",
    "#### Convert an address into latitude and longitude values\n",
    "- !conda install -c conda-forge geopy --yes \n",
    "- from geopy.geocoders import Nominatim \n",
    "#### Library to handle requests\n",
    "- import requests \n",
    "#### Tranform JSON file into a pandas dataframe\n",
    "- from pandas.io.json import json_normalize \n",
    "#### Matplotlib and associated plotting modules\n",
    "- import matplotlib.cm as cm\n",
    "- import matplotlib.colors as colors\n",
    "#### Import k-means from clustering stage\n",
    "- from sklearn.cluster import KMeans\n",
    "#### Map rendering library\n",
    "- !conda install -c conda-forge folium=0.5.0 --yes \n",
    "- import folium "
   ]
  },
  {
   "cell_type": "markdown",
   "id": "e240a878",
   "metadata": {},
   "source": [
    "### Downloading and Webscrapping the Toronto Data"
   ]
  },
  {
   "cell_type": "markdown",
   "id": "59d16f85",
   "metadata": {},
   "source": [
    "- !pip install bs4\n",
    "- from bs4 import BeautifulSoup\n",
    "url = \"https://en.wikipedia.org/wiki/List_of_postal_codes_of_Canada:_M\"\n",
    "print('import complete')"
   ]
  },
  {
   "cell_type": "markdown",
   "id": "57d3329d",
   "metadata": {},
   "source": [
    "### Getting and Importing the Queens and Brooklyn Data for Data Exploration"
   ]
  },
  {
   "cell_type": "markdown",
   "id": "3538d764",
   "metadata": {},
   "source": [
    "res = requests.get('https://cf-courses-data.s3.us.cloud-object-storage.appdomain.cloud/IBMDeveloperSkillsNetwork-DS0701EN-SkillsNetwork/labs/newyork_data.json')\n",
    "\n",
    "newyork_data=res.json()"
   ]
  },
  {
   "cell_type": "markdown",
   "id": "b5d1b1c2",
   "metadata": {},
   "source": [
    "### Defining Foursquare Creditenals for Queens, Brooklyn, and Toronto Restaurant Exploration"
   ]
  },
  {
   "cell_type": "markdown",
   "id": "817dcf6f",
   "metadata": {},
   "source": [
    "#### This is for venue exploration, venue tips, specifying the restaurant type to Indian, and getting ratings of any successful Indian restaurants. For example, in Brooklyn, there wasn't a top 10 most common Indian Restaurant; so, I found a great rated Indian restaruant and searched it tips and surrounding venues to see if it had any similiarities to the Indian restaurants that are in Queens. \n",
    "\n",
    "- CLIENT_ID = '3QCOYLJIYELE1O32XIQQFCQOA1PEHSTZCM0POEIJMUZUR10A' \n",
    "- CLIENT_SECRET = 'P1AC0GGYPAPZF4JJOS03JHWJ4PMY43FQAVMQCL25BTM5ZPOT' \n",
    "- VERSION = '20180605' \n",
    "- LIMIT = 100 "
   ]
  }
 ],
 "metadata": {
  "kernelspec": {
   "display_name": "Python 3",
   "language": "python",
   "name": "python3"
  },
  "language_info": {
   "codemirror_mode": {
    "name": "ipython",
    "version": 3
   },
   "file_extension": ".py",
   "mimetype": "text/x-python",
   "name": "python",
   "nbconvert_exporter": "python",
   "pygments_lexer": "ipython3",
   "version": "3.8.8"
  }
 },
 "nbformat": 4,
 "nbformat_minor": 5
}
